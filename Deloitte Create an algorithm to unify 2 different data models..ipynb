{
 "cells": [
  {
   "cell_type": "markdown",
   "id": "1815aa8b",
   "metadata": {},
   "source": [
    "## Task - 1"
   ]
  },
  {
   "cell_type": "markdown",
   "id": "619ad849",
   "metadata": {},
   "source": [
    "### Conversion from Type - 1 Data"
   ]
  },
  {
   "cell_type": "code",
   "execution_count": 1,
   "id": "1b6fd8fd",
   "metadata": {},
   "outputs": [],
   "source": [
    "import json\n",
    "\n",
    "jsonObject = '''{\n",
    "    \"deviceID\": \"dh28dslkja\",\n",
    "    \"deviceType\": \"LaserCutter\",\n",
    "    \"timestamp\": 1624445837783,\n",
    "    \"location\": \"japan/tokyo/keiyō-industrial-zone/daikibo-factory-meiyo/section-1\",\n",
    "    \"operationStatus\": \"healthy\",\n",
    "    \"temp\": 22\n",
    "}'''\n",
    "\n",
    "data = json.loads(jsonObject)"
   ]
  },
  {
   "cell_type": "code",
   "execution_count": 2,
   "id": "b2f8f5cc",
   "metadata": {},
   "outputs": [],
   "source": [
    "address_headers = [\"country\", \"city\", \"area\", \"factory\", \"section\" ]\n",
    "\n",
    "complete_address = data[\"location\"].split('/')\n",
    "\n",
    "location_dict = {}\n",
    "\n",
    "for header, address in zip(address_headers, complete_address):\n",
    "    location_dict[header] = address\n",
    "\n",
    "data_headers = {\"status\":data[\"operationStatus\"] , \"temprature\": data[\"temp\"]}\n",
    "\n",
    "    \n",
    "data[\"location\"] = location_dict\n",
    "data[\"data\"] = data_headers\n",
    "\n",
    "del data['operationStatus']\n",
    "del data['temp']"
   ]
  },
  {
   "cell_type": "code",
   "execution_count": 3,
   "id": "0d01b7e3",
   "metadata": {},
   "outputs": [
    {
     "data": {
      "text/plain": [
       "{'deviceID': 'dh28dslkja',\n",
       " 'deviceType': 'LaserCutter',\n",
       " 'timestamp': 1624445837783,\n",
       " 'location': {'country': 'japan',\n",
       "  'city': 'tokyo',\n",
       "  'area': 'keiyō-industrial-zone',\n",
       "  'factory': 'daikibo-factory-meiyo',\n",
       "  'section': 'section-1'},\n",
       " 'data': {'status': 'healthy', 'temprature': 22}}"
      ]
     },
     "execution_count": 3,
     "metadata": {},
     "output_type": "execute_result"
    }
   ],
   "source": [
    "r = json.loads(json.dumps(data))\n",
    "r"
   ]
  },
  {
   "cell_type": "markdown",
   "id": "9e4c1ec8",
   "metadata": {},
   "source": [
    "### Conversion from Type - 2 Data"
   ]
  },
  {
   "cell_type": "code",
   "execution_count": 4,
   "id": "a445497c",
   "metadata": {},
   "outputs": [],
   "source": [
    "import json\n",
    "import datetime \n",
    "\n",
    "jsonObject = \"\"\"{\n",
    "    \"device\": {\n",
    "        \"id\": \"dh28dslkja\",\n",
    "        \"type\": \"LaserCutter\"\n",
    "    },\n",
    "    \"timestamp\": \"2021-06-23T10:57:17.783Z\",\n",
    "    \"country\": \"japan\",\n",
    "    \"city\": \"tokyo\",\n",
    "    \"area\": \"keiyō-industrial-zone\",\n",
    "    \"factory\": \"daikibo-factory-meiyo\",\n",
    "    \"section\": \"section-1\",\n",
    "    \"data\": {\n",
    "        \"status\": \"healthy\",\n",
    "        \"temperature\": 22\n",
    "    }\n",
    "}\"\"\"\n",
    "\n",
    "data = json.loads(jsonObject)"
   ]
  },
  {
   "cell_type": "code",
   "execution_count": 5,
   "id": "cc34f08f",
   "metadata": {},
   "outputs": [
    {
     "data": {
      "text/plain": [
       "{'deviceID': 'dh28dslkja',\n",
       " 'deviceType': 'LaserCutter',\n",
       " 'timestamp': 1624445837783,\n",
       " 'location': {'country': 'japan',\n",
       "  'city': 'tokyo',\n",
       "  'area': 'keiyō-industrial-zone',\n",
       "  'factory': 'daikibo-factory-meiyo',\n",
       "  'section': 'section-1'},\n",
       " 'data': {'status': 'healthy', 'temperature': 22}}"
      ]
     },
     "execution_count": 5,
     "metadata": {},
     "output_type": "execute_result"
    }
   ],
   "source": [
    "new_data = {}\n",
    "new_data[\"deviceID\"] = data['device']['id']\n",
    "new_data[\"deviceType\"] = data['device']['type']\n",
    "\n",
    "tm = data[\"timestamp\"]\n",
    "date_time_obj = datetime.datetime.strptime(tm, '%Y-%m-%dT%H:%M:%S.%fZ')\n",
    "timestamp = str((date_time_obj - datetime.datetime(1970, 1, 1)).total_seconds()*1000)\n",
    "new_data[\"timestamp\"] = int(timestamp[:-2])\n",
    "\n",
    "\n",
    "keys = [\"country\", \"city\", \"area\", \"factory\", \"section\"]\n",
    "sub_dict = {key:val for key, val in data.items() if key in keys}\n",
    "\n",
    "new_data[\"location\"] = sub_dict\n",
    "\n",
    "new_data[\"data\"] = data['data']\n",
    "\n",
    "new_data\n",
    "\n",
    "r = json.loads(json.dumps(new_data))\n",
    "r"
   ]
  },
  {
   "cell_type": "markdown",
   "id": "28a2c0e4",
   "metadata": {},
   "source": [
    "## Complete Code"
   ]
  },
  {
   "cell_type": "raw",
   "id": "b1bd71aa",
   "metadata": {},
   "source": [
    "import json, unittest, datetime\n",
    "\n",
    "with open(\"./data-1.json\",\"r\") as f:\n",
    "    jsonData1 = json.load(f)\n",
    "with open(\"./data-2.json\",\"r\") as f:\n",
    "    jsonData2 = json.load(f)\n",
    "with open(\"./data-result.json\",\"r\") as f:\n",
    "    jsonExpectedResult = json.load(f)\n",
    "\n",
    "\n",
    "def convertFromFormat1 (jsonObject):\n",
    "  # IMPLEMENT: Conversion From Type 1\n",
    "  data = jsonObject\n",
    "\n",
    "  address_headers = [\"country\", \"city\", \"area\", \"factory\", \"section\" ]\n",
    "\n",
    "  complete_address = data[\"location\"].split('/')\n",
    "\n",
    "  location_dict = {}\n",
    "\n",
    "  for header, address in zip(address_headers, complete_address):\n",
    "    location_dict[header] = address\n",
    "\n",
    "  data_headers = {\"status\":data[\"operationStatus\"],\n",
    "                  \"temperature\": data[\"temp\"]}\n",
    "      \n",
    "  data[\"location\"] = location_dict\n",
    "  data[\"data\"] = data_headers\n",
    "  \n",
    "  del data['operationStatus']\n",
    "  del data['temp']\n",
    "\n",
    "  # json_object = json.dumps(data, indent = 2) \n",
    "  r =json.loads(json.dumps(data))\n",
    " \n",
    "  return r\n",
    "\n",
    "\n",
    "def convertFromFormat2 (jsonObject):\n",
    "\n",
    "  # IMPLEMENT: Conversion From Type 1\n",
    "  # datetime.datetime(2020,2,25,0,2,43).timestamp()\n",
    "  data = jsonObject\n",
    "  new_data = {}\n",
    "  new_data[\"deviceID\"] = data['device']['id']\n",
    "  new_data[\"deviceType\"] = data['device']['type']\n",
    "  \n",
    "  tm = data[\"timestamp\"] #2021-06-23T10:57:17.783Z\"\n",
    "  date_time_obj = datetime.datetime.strptime(tm, '%Y-%m-%dT%H:%M:%S.%fZ')\n",
    "  timestamp = str((date_time_obj - datetime.datetime(1970, 1, 1)).total_seconds()*1000)\n",
    "  new_data[\"timestamp\"] = int(timestamp[:-2])\n",
    "  \n",
    "  \n",
    "  keys = [\"country\", \"city\", \"area\", \"factory\", \"section\"]\n",
    "  sub_dict = {key:val for key, val in data.items() if key in keys}\n",
    "  \n",
    "  new_data[\"location\"] = sub_dict\n",
    "  \n",
    "  new_data[\"data\"] = data['data']\n",
    "  \n",
    "  r = json.loads(json.dumps(new_data))\n",
    "\n",
    "  return r\n",
    "\n",
    "\n",
    "def main (jsonObject):\n",
    "\n",
    "    result = {}\n",
    "\n",
    "    if (jsonObject.get('device') == None):\n",
    "        result = convertFromFormat1(jsonObject)\n",
    "    else:\n",
    "        result = convertFromFormat2(jsonObject)\n",
    "\n",
    "    return result\n",
    "\n",
    "\n",
    "class TestSolution(unittest.TestCase):\n",
    "\n",
    "    def test_sanity(self):\n",
    "\n",
    "        result = json.loads(json.dumps(jsonExpectedResult))\n",
    "        self.assertEqual(\n",
    "            result,\n",
    "            jsonExpectedResult\n",
    "        )\n",
    "\n",
    "    def test_dataType1(self):\n",
    "\n",
    "        result = main (jsonData1)\n",
    "        self.assertEqual(\n",
    "            result,\n",
    "            jsonExpectedResult,\n",
    "            'Converting from Type 1 failed'\n",
    "        )\n",
    "\n",
    "    def test_dataType2(self):\n",
    "\n",
    "        result = main (jsonData2)\n",
    "        self.assertEqual(\n",
    "            result,\n",
    "            jsonExpectedResult,\n",
    "            'Converting from Type 2 failed'\n",
    "        )\n",
    "\n",
    "if __name__ == '__main__':\n",
    "    unittest.main()\n",
    "\n"
   ]
  },
  {
   "cell_type": "markdown",
   "id": "6e4bf88d",
   "metadata": {},
   "source": [
    "Repl Submission: https://replit.com/@DdhruvArora/Task1-VE#main.py"
   ]
  },
  {
   "cell_type": "code",
   "execution_count": null,
   "id": "43fcaf3c",
   "metadata": {},
   "outputs": [],
   "source": []
  }
 ],
 "metadata": {
  "kernelspec": {
   "display_name": "Python 3",
   "language": "python",
   "name": "python3"
  },
  "language_info": {
   "codemirror_mode": {
    "name": "ipython",
    "version": 3
   },
   "file_extension": ".py",
   "mimetype": "text/x-python",
   "name": "python",
   "nbconvert_exporter": "python",
   "pygments_lexer": "ipython3",
   "version": "3.8.10"
  }
 },
 "nbformat": 4,
 "nbformat_minor": 5
}
